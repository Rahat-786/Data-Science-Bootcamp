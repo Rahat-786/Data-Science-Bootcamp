{
 "cells": [
  {
   "cell_type": "markdown",
   "id": "b60965ae",
   "metadata": {},
   "source": [
    "# DATA SCIENCE BOOTCAMP ASSIGNMENT 01"
   ]
  },
  {
   "cell_type": "markdown",
   "id": "b6a3f538",
   "metadata": {},
   "source": [
    "Q1: Write a python program to  iterate through first 10 numbers and print the sum of each"
   ]
  },
  {
   "cell_type": "code",
   "execution_count": 7,
   "id": "60bf6b2a",
   "metadata": {},
   "outputs": [
    {
     "name": "stdout",
     "output_type": "stream",
     "text": [
      "The total sum of the first 10 numbers are : 55\n"
     ]
    }
   ],
   "source": [
    "sum = 0 \n",
    "for i in range(1,11):\n",
    "    sum = sum + i\n",
    "print(\"The total sum of the first 10 numbers are :\", sum)\n",
    "    "
   ]
  },
  {
   "cell_type": "markdown",
   "id": "13073c96",
   "metadata": {},
   "source": [
    "Q2:  List is given below:\n",
    "numbers = [12, 75, 150, 180, 145, 525, 50]\n",
    "Write a program to display only those numbers from a list that satisfy the following\n",
    "conditions\n",
    "i. The number must be divisible by five\n",
    "ii. If the number is greater than 150, then skip it and move to the next number\n",
    "iii. If the number is greater than 500, then stop the loop"
   ]
  },
  {
   "cell_type": "code",
   "execution_count": 9,
   "id": "b9116eca",
   "metadata": {},
   "outputs": [
    {
     "name": "stdout",
     "output_type": "stream",
     "text": [
      "75\n",
      "150\n",
      "180\n",
      "145\n",
      "525\n",
      "50\n"
     ]
    }
   ],
   "source": [
    "numbers = [12, 75, 150, 180, 145, 525, 50]\n",
    "\n",
    "# Numbers that are divisible by 5\n",
    "\n",
    "for x in numbers:\n",
    "    if x % 5 == 0:\n",
    "        print(x)"
   ]
  },
  {
   "cell_type": "code",
   "execution_count": 12,
   "id": "709912d2",
   "metadata": {},
   "outputs": [
    {
     "name": "stdout",
     "output_type": "stream",
     "text": [
      "12\n",
      "75\n",
      "180\n",
      "145\n",
      "525\n",
      "50\n"
     ]
    }
   ],
   "source": [
    "# If a number is greater than 150  skip to the number.\n",
    "\n",
    "numbers = [12, 75, 150, 180, 145, 525, 50]\n",
    "\n",
    "for x in numbers:\n",
    "    if x == 150:\n",
    "        continue\n",
    "    print(x)\n",
    "        "
   ]
  },
  {
   "cell_type": "code",
   "execution_count": 14,
   "id": "2cb30712",
   "metadata": {},
   "outputs": [
    {
     "name": "stdout",
     "output_type": "stream",
     "text": [
      "12\n",
      "75\n",
      "150\n",
      "180\n",
      "145\n"
     ]
    }
   ],
   "source": [
    "# if a number is greater than 500, break the loop\n",
    "\n",
    "numbers = [12, 75, 150, 180, 145, 525, 50]\n",
    "\n",
    "for x in numbers:\n",
    "    if x > 500:\n",
    "        break\n",
    "    print(x)"
   ]
  },
  {
   "cell_type": "markdown",
   "id": "90274ed5",
   "metadata": {},
   "source": [
    "Q3: Display Fibonacci series up to 10 terms\n",
    "The Fibonacci Sequence is a series of numbers. The next number is found by adding\n",
    "up the two numbers before it. The first two numbers are 0 and 1.\n",
    "For example, 0, 1, 1, 2, 3, 5, 8, 13, 21. The next number in this series above is\n",
    "13+21 = 34."
   ]
  },
  {
   "cell_type": "code",
   "execution_count": 15,
   "id": "3bf3a36a",
   "metadata": {},
   "outputs": [
    {
     "name": "stdout",
     "output_type": "stream",
     "text": [
      "1\n",
      "2\n",
      "3\n",
      "5\n",
      "8\n",
      "13\n",
      "21\n",
      "34\n"
     ]
    }
   ],
   "source": [
    "N = 10\n",
    "\n",
    "fib1 = 0\n",
    "fib2 = 1\n",
    "\n",
    "for n in range(N-2):\n",
    "    fib_next = fib2 + fib1\n",
    "    fib1 = fib2\n",
    "    fib2 = fib_next\n",
    "    print(fib_next)"
   ]
  },
  {
   "cell_type": "markdown",
   "id": "58f9ec63",
   "metadata": {},
   "source": [
    "Q4: Write a program to use the loop to find the factorial of a given number.\n",
    "The factorial (symbol: !) means to multiply all whole numbers from the chosen number\n",
    "down to 1.\n",
    "For example: calculate the factorial of 5\n",
    "5! = 5 × 4 × 3 × 2 × 1 = 120"
   ]
  },
  {
   "cell_type": "code",
   "execution_count": 18,
   "id": "52acb50c",
   "metadata": {},
   "outputs": [
    {
     "name": "stdout",
     "output_type": "stream",
     "text": [
      "Enter a number :5\n",
      "120\n"
     ]
    }
   ],
   "source": [
    "fact = int(input(\"Enter a number :\"))\n",
    "result = 1\n",
    "\n",
    "for n in range(1, fact+1):\n",
    "    result *= n\n",
    "print(result)"
   ]
  },
  {
   "cell_type": "markdown",
   "id": "8e2f30f3",
   "metadata": {},
   "source": [
    "Q5: Write a program to iterate a given list and count the occurrence of each element and\n",
    "print to show the count of each element.\n",
    "sample_list = [11, 45, 8, 11, 23, 45, 23, 45, 89]"
   ]
  },
  {
   "cell_type": "code",
   "execution_count": 22,
   "id": "9507f22e",
   "metadata": {},
   "outputs": [
    {
     "name": "stdout",
     "output_type": "stream",
     "text": [
      "The count of each element in the list is : {11: 2, 45: 3, 8: 1, 23: 2, 89: 1}\n"
     ]
    }
   ],
   "source": [
    "sample_list = [11, 45, 8, 11, 23, 45, 23, 45, 89]\n",
    "\n",
    "count = {}\n",
    "\n",
    "for element in sample_list:\n",
    "    if element in count:\n",
    "        count[element] += 1\n",
    "    else:\n",
    "        count[element] = 1\n",
    "print('The count of each element in the list is :', count)"
   ]
  },
  {
   "cell_type": "markdown",
   "id": "b779b1dd",
   "metadata": {},
   "source": [
    "Q6: Given two lists, l1 and l2, write a program to create a third list l3 by picking an\n",
    "odd-index element from the list l1 and even index elements from the list l2.\n",
    "Given:\n",
    "l1 = [3, 6, 9, 12, 15, 18, 21]\n",
    "l2 = [4, 8, 12, 16, 20, 24, 28]"
   ]
  },
  {
   "cell_type": "code",
   "execution_count": 40,
   "id": "c025075b",
   "metadata": {},
   "outputs": [
    {
     "name": "stdout",
     "output_type": "stream",
     "text": [
      "[3, 9, 15, 21, 4, 8, 12, 16, 20, 24, 28]\n"
     ]
    }
   ],
   "source": [
    "L1 = [3, 6, 9, 12, 15, 18, 21]\n",
    "L2 = [4, 8, 12, 16, 20, 24, 28]\n",
    "\n",
    "new_list = []\n",
    "\n",
    "for i in L1:\n",
    "    if i % 2 == 1:\n",
    "        new_list.append(i)\n",
    "for j in L2:\n",
    "    if j % 2 == 0:\n",
    "        new_list.append(j)\n",
    "\n",
    "print(new_list)"
   ]
  },
  {
   "cell_type": "markdown",
   "id": "daae1d7e",
   "metadata": {},
   "source": [
    "Q7: Print the following pattern\n",
    "    1\n",
    "    2 2\n",
    "    3 3 3\n",
    "    4 4 4 4\n",
    "    5 5 5 5 5\n"
   ]
  },
  {
   "cell_type": "code",
   "execution_count": 45,
   "id": "72c195f4",
   "metadata": {},
   "outputs": [
    {
     "name": "stdout",
     "output_type": "stream",
     "text": [
      "1 \n",
      "2 2 \n",
      "3 3 3 \n",
      "4 4 4 4 \n",
      "5 5 5 5 5 \n"
     ]
    }
   ],
   "source": [
    "rows = 5\n",
    "\n",
    "for i in range(1, rows + 1):\n",
    "\n",
    "    for j in range(i):\n",
    "        print(i, end=\" \")  \n",
    "    print()  \n"
   ]
  },
  {
   "cell_type": "code",
   "execution_count": null,
   "id": "52bce5f5",
   "metadata": {},
   "outputs": [],
   "source": []
  }
 ],
 "metadata": {
  "kernelspec": {
   "display_name": "Python 3 (ipykernel)",
   "language": "python",
   "name": "python3"
  },
  "language_info": {
   "codemirror_mode": {
    "name": "ipython",
    "version": 3
   },
   "file_extension": ".py",
   "mimetype": "text/x-python",
   "name": "python",
   "nbconvert_exporter": "python",
   "pygments_lexer": "ipython3",
   "version": "3.9.13"
  }
 },
 "nbformat": 4,
 "nbformat_minor": 5
}
